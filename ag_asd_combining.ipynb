{
 "cells": [
  {
   "cell_type": "code",
   "execution_count": 243,
   "metadata": {
    "collapsed": false,
    "scrolled": true
   },
   "outputs": [
    {
     "name": "stderr",
     "output_type": "stream",
     "text": [
      "/home/ucsd-train33/anaconda3/lib/python3.5/site-packages/matplotlib/__init__.py:872: UserWarning: axes.color_cycle is deprecated and replaced with axes.prop_cycle; please use the latter.\n",
      "  warnings.warn(self.msg_depr % (key, alt_key))\n"
     ]
    }
   ],
   "source": [
    "# Numerical python library (pronounced \"num-pie\")\n",
    "import numpy as np\n",
    "\n",
    "# Dataframes in Python\n",
    "import pandas as pd\n",
    "\n",
    "# Python plotting library\n",
    "import matplotlib.pyplot as plt\n",
    "\n",
    "# Statistical plotting library we'll use\n",
    "import seaborn as sns\n",
    "\n",
    "sns.set(style='ticks', context='notebook')\n",
    "\n",
    "# This is necessary to show the plotted figures inside the notebook -- \"inline\" with the notebook cells\n",
    "%matplotlib inline\n"
   ]
  },
  {
   "cell_type": "code",
   "execution_count": 251,
   "metadata": {
    "collapsed": false
   },
   "outputs": [],
   "source": [
    "#asd_metadata=pd.read_csv('asd_metadata.txt', dtype=str,sep='\\t', index_col=\"survey_id\")\n",
    "ag_metadata=pd.read_csv('ag_10k_fecal.txt', dtype=str, sep='\\t', index_col=\"SURVEY_ID\")"
   ]
  },
  {
   "cell_type": "code",
   "execution_count": 252,
   "metadata": {
    "collapsed": true
   },
   "outputs": [],
   "source": [
    "asd_metadata=pd.read_csv('asd_metadata.txt', dtype=str,sep='\\t', index_col=\"survey_id\")"
   ]
  },
  {
   "cell_type": "code",
   "execution_count": 253,
   "metadata": {
    "collapsed": false
   },
   "outputs": [
    {
     "data": {
      "text/plain": [
       "(4050, 443)"
      ]
     },
     "execution_count": 253,
     "metadata": {},
     "output_type": "execute_result"
    }
   ],
   "source": [
    "ag_metadata.shape"
   ]
  },
  {
   "cell_type": "code",
   "execution_count": 254,
   "metadata": {
    "collapsed": false
   },
   "outputs": [
    {
     "data": {
      "text/plain": [
       "1fec2845931898a7    25\n",
       "be8516e8c5d4ff4d    14\n",
       "f7622f9a637bd2ed    14\n",
       "8c892cd47c915059    13\n",
       "463e87b0bee484f8    11\n",
       "9d4322f6918111c1    11\n",
       "25bb1cdad4a3e9eb    10\n",
       "41f1dd4420adeba5    10\n",
       "75eacbe63df36f93     9\n",
       "10faa80392da79f4     9\n",
       "9ad651581fbd61c1     8\n",
       "6a0894a5ab6be8f6     8\n",
       "b4d13bb44432e435     7\n",
       "c928dc99748be403     7\n",
       "4ff4cc2f2ff9816a     6\n",
       "04bc0d70ae689011     6\n",
       "00aa96fede1fd981     6\n",
       "bb3a507b2b674c7e     6\n",
       "ecd7670f8963c4f7     5\n",
       "61a18a7ba8384150     5\n",
       "63858372b3359691     5\n",
       "9aa4aa6f19982163     5\n",
       "318b77e75201984b     5\n",
       "3409f245b0d580bd     5\n",
       "9e158ba782b35ba9     5\n",
       "909596aa0fb7e1e6     4\n",
       "24e198cf98152541     4\n",
       "e2628d888fe64dd3     4\n",
       "43db4ef2482cd3ed     3\n",
       "a17c7e5be8aeb2c2     3\n",
       "                    ..\n",
       "45354a03e6550b30     1\n",
       "86c254ab115ceff2     1\n",
       "48562a7f032a2317     1\n",
       "75e16edd59786ed1     1\n",
       "b5940bf43657bfc1     1\n",
       "f3dd2cc83b6db893     1\n",
       "d1fda14344af0aec     1\n",
       "fbea0ca50e1b3730     1\n",
       "4f2b82319d6ad826     1\n",
       "563ed4a7a1956a62     1\n",
       "703e8cdb6fe9c46f     1\n",
       "e724ee4d5a0a1b25     1\n",
       "3ddc2e29be009f56     1\n",
       "a994de561a2f5f6e     1\n",
       "3130366da01ff48f     1\n",
       "af397be53256a911     1\n",
       "80d078d192f35f84     1\n",
       "40744daf58207447     1\n",
       "a220f3dffda45f75     1\n",
       "e196e2d57b436367     1\n",
       "d6c0732103da5401     1\n",
       "39adc1205409b742     1\n",
       "28354da752187214     1\n",
       "9e3f74408d8a23cf     1\n",
       "33bd33e81af5ce91     1\n",
       "f9ee1c4211a15ee9     1\n",
       "cb1ece77cd9f32fa     1\n",
       "da60ba31886cbe37     1\n",
       "ba8303ff447a2fab     1\n",
       "2a6c128476225f04     1\n",
       "Name: SURVEY_ID, dtype: int64"
      ]
     },
     "execution_count": 254,
     "metadata": {},
     "output_type": "execute_result"
    }
   ],
   "source": [
    "ag_metadata.index.value_counts() #values of the index"
   ]
  },
  {
   "cell_type": "code",
   "execution_count": 255,
   "metadata": {
    "collapsed": false
   },
   "outputs": [
    {
     "data": {
      "text/plain": [
       "eb94a9ee297a6218    2\n",
       "550df65a5ea9052d    1\n",
       "3a7310e80dfaa0d9    1\n",
       "b2defde57c67617a    1\n",
       "8429dda12a27079e    1\n",
       "b0e852e5aa743372    1\n",
       "20576c1dfab7f509    1\n",
       "0e257a89e50e33b4    1\n",
       "f9f65bb3a4fdaa78    1\n",
       "b694848868018b41    1\n",
       "faa56e9e2af0555d    1\n",
       "5d1d92f5c2205e46    1\n",
       "0b2392583c236653    1\n",
       "e243f6dec6e9e5a8    1\n",
       "d8fc8f9f78831cc1    1\n",
       "e53f718f6be329a7    1\n",
       "398f695078b633e3    1\n",
       "01d86333e4604f40    1\n",
       "8a2649dbb23d510f    1\n",
       "3cdfab4da982b21c    1\n",
       "9a4b2f84d7256d91    1\n",
       "c1c4e25c39eeb791    1\n",
       "ad2fdb1c73cc3675    1\n",
       "f3d0f481e291129b    1\n",
       "3b6dd63991aef554    1\n",
       "0ecfebf9009ce02c    1\n",
       "34476e55f3536967    1\n",
       "d4ff01b14b9249e1    1\n",
       "4b20c84e86d300fa    1\n",
       "51aa2cc41047811d    1\n",
       "                   ..\n",
       "38a46a384b8a3883    1\n",
       "1dd45caad335ad05    1\n",
       "6f01e6543e12a609    1\n",
       "50a8dad900381f41    1\n",
       "73509cf466b0bc2b    1\n",
       "f37a7683cf5c6f74    1\n",
       "050a74c5d1e4ac65    1\n",
       "0100b469f4db4242    1\n",
       "30feb5de418e199d    1\n",
       "e59f57973c1cf213    1\n",
       "7c2fccb476cccde8    1\n",
       "f7989b39f1049e02    1\n",
       "7f2026d9f99866a1    1\n",
       "a115bae35ec00ea8    1\n",
       "024d1aaabac2af2b    1\n",
       "93f1c01703851af2    1\n",
       "aa096a916f35de14    1\n",
       "9c7dc0eee746ad6a    1\n",
       "30ed6b752cfafdc7    1\n",
       "5b2f515542b77333    1\n",
       "9328fb72502fd8b7    1\n",
       "9685282d4da95285    1\n",
       "c90a07f8a8c50144    1\n",
       "b043e732c2c762d1    1\n",
       "12dfe98bb387bf2d    1\n",
       "a24bcaa70c2c65f8    1\n",
       "be7350ab0d81c982    1\n",
       "29afb5254429d58b    1\n",
       "d53ee4027fa20a85    1\n",
       "145212a979cbb90b    1\n",
       "Name: survey_id, dtype: int64"
      ]
     },
     "execution_count": 255,
     "metadata": {},
     "output_type": "execute_result"
    }
   ],
   "source": [
    "asd_metadata.index.value_counts()"
   ]
  },
  {
   "cell_type": "code",
   "execution_count": 256,
   "metadata": {
    "collapsed": false
   },
   "outputs": [
    {
     "data": {
      "text/plain": [
       "40"
      ]
     },
     "execution_count": 256,
     "metadata": {},
     "output_type": "execute_result"
    }
   ],
   "source": [
    "len(set(asd_metadata.index) - set(ag_metadata.index)) #number of intersections\n",
    "#asd_metadata.index.value_counts()"
   ]
  },
  {
   "cell_type": "code",
   "execution_count": 257,
   "metadata": {
    "collapsed": false
   },
   "outputs": [
    {
     "data": {
      "text/plain": [
       "(4050, 443)"
      ]
     },
     "execution_count": 257,
     "metadata": {},
     "output_type": "execute_result"
    }
   ],
   "source": [
    "ag_metadata.index.names=['survey_id'] #renaming the index column so that they have the same name for both metadata\n",
    "ag_metadata.shape"
   ]
  },
  {
   "cell_type": "markdown",
   "metadata": {},
   "source": [
    "Documentation of pandas dataframe joining\n",
    "http://pandas.pydata.org/pandas-docs/stable/generated/pandas.DataFrame.join.html "
   ]
  },
  {
   "cell_type": "code",
   "execution_count": 258,
   "metadata": {
    "collapsed": false
   },
   "outputs": [],
   "source": [
    "#ag_asd_metadata_concat=pd.concat([asd_metadata, ag_metadata], axis=1, join='inner')\n",
    "#ag_asd_metadata_merge=pd.merge(ag_metadata, asd_metadata, how='left')\n",
    "ag_asd_metadata=ag_metadata.join(asd_metadata) #outer joining everything and replaces the extra cells with NaN (takes the union of the two dataframes)"
   ]
  },
  {
   "cell_type": "code",
   "execution_count": 259,
   "metadata": {
    "collapsed": false
   },
   "outputs": [
    {
     "data": {
      "text/plain": [
       "42"
      ]
     },
     "execution_count": 259,
     "metadata": {},
     "output_type": "execute_result"
    }
   ],
   "source": [
    "ag_asd_metadata.ag_asd_timestamp.count()"
   ]
  },
  {
   "cell_type": "code",
   "execution_count": 260,
   "metadata": {
    "collapsed": false
   },
   "outputs": [],
   "source": [
    "ag_asd_metadata = ag_asd_metadata[pd.notnull(ag_asd_metadata['ag_asd_timestamp'])] #removing the rows that don't have timestamp"
   ]
  },
  {
   "cell_type": "code",
   "execution_count": 261,
   "metadata": {
    "collapsed": false
   },
   "outputs": [
    {
     "data": {
      "text/plain": [
       "(42, 535)"
      ]
     },
     "execution_count": 261,
     "metadata": {},
     "output_type": "execute_result"
    }
   ],
   "source": [
    "ag_asd_metadata.shape"
   ]
  },
  {
   "cell_type": "code",
   "execution_count": 262,
   "metadata": {
    "collapsed": false
   },
   "outputs": [],
   "source": [
    "ag_asd_metadata=ag_asd_metadata.set_index(\"#SampleID\")"
   ]
  },
  {
   "cell_type": "code",
   "execution_count": 263,
   "metadata": {
    "collapsed": false
   },
   "outputs": [
    {
     "data": {
      "text/html": [
       "<div>\n",
       "<table border=\"1\" class=\"dataframe\">\n",
       "  <thead>\n",
       "    <tr style=\"text-align: right;\">\n",
       "      <th></th>\n",
       "      <th>VIOSCREEN_MANNITOL</th>\n",
       "      <th>VIOSCREEN_SFA100</th>\n",
       "      <th>NON_FOOD_ALLERGIES_BEESTINGS</th>\n",
       "      <th>VIOSCREEN_FINISHED</th>\n",
       "      <th>TONSILS_REMOVED</th>\n",
       "      <th>VIOSCREEN_SFA170</th>\n",
       "      <th>VIOSCREEN_VEGETABLE_SERVINGS</th>\n",
       "      <th>VIOSCREEN_SORBITOL</th>\n",
       "      <th>COUNTRY_OF_BIRTH</th>\n",
       "      <th>ECONOMIC_REGION</th>\n",
       "      <th>...</th>\n",
       "      <th>Unnamed: 83</th>\n",
       "      <th>Unnamed: 84</th>\n",
       "      <th>Unnamed: 85</th>\n",
       "      <th>Unnamed: 86</th>\n",
       "      <th>Unnamed: 87</th>\n",
       "      <th>Unnamed: 88</th>\n",
       "      <th>Unnamed: 89</th>\n",
       "      <th>Unnamed: 90</th>\n",
       "      <th>Unnamed: 91</th>\n",
       "      <th></th>\n",
       "    </tr>\n",
       "    <tr>\n",
       "      <th>#SampleID</th>\n",
       "      <th></th>\n",
       "      <th></th>\n",
       "      <th></th>\n",
       "      <th></th>\n",
       "      <th></th>\n",
       "      <th></th>\n",
       "      <th></th>\n",
       "      <th></th>\n",
       "      <th></th>\n",
       "      <th></th>\n",
       "      <th></th>\n",
       "      <th></th>\n",
       "      <th></th>\n",
       "      <th></th>\n",
       "      <th></th>\n",
       "      <th></th>\n",
       "      <th></th>\n",
       "      <th></th>\n",
       "      <th></th>\n",
       "      <th></th>\n",
       "      <th></th>\n",
       "    </tr>\n",
       "  </thead>\n",
       "  <tbody>\n",
       "    <tr>\n",
       "      <th>10317.000021533</th>\n",
       "      <td>Unknown</td>\n",
       "      <td>Unknown</td>\n",
       "      <td>false</td>\n",
       "      <td>Unknown</td>\n",
       "      <td>No</td>\n",
       "      <td>Unknown</td>\n",
       "      <td>Unknown</td>\n",
       "      <td>Unknown</td>\n",
       "      <td>United States</td>\n",
       "      <td>Far West</td>\n",
       "      <td>...</td>\n",
       "      <td>NaN</td>\n",
       "      <td>NaN</td>\n",
       "      <td>NaN</td>\n",
       "      <td>NaN</td>\n",
       "      <td>NaN</td>\n",
       "      <td>NaN</td>\n",
       "      <td>NaN</td>\n",
       "      <td>NaN</td>\n",
       "      <td>NaN</td>\n",
       "      <td>NaN</td>\n",
       "    </tr>\n",
       "    <tr>\n",
       "      <th>10317.000023414</th>\n",
       "      <td>Unknown</td>\n",
       "      <td>Unknown</td>\n",
       "      <td>false</td>\n",
       "      <td>Unknown</td>\n",
       "      <td>No</td>\n",
       "      <td>Unknown</td>\n",
       "      <td>Unknown</td>\n",
       "      <td>Unknown</td>\n",
       "      <td>United States</td>\n",
       "      <td>Southwest</td>\n",
       "      <td>...</td>\n",
       "      <td>NaN</td>\n",
       "      <td>NaN</td>\n",
       "      <td>NaN</td>\n",
       "      <td>NaN</td>\n",
       "      <td>NaN</td>\n",
       "      <td>NaN</td>\n",
       "      <td>NaN</td>\n",
       "      <td>NaN</td>\n",
       "      <td>NaN</td>\n",
       "      <td>NaN</td>\n",
       "    </tr>\n",
       "    <tr>\n",
       "      <th>10317.000026190</th>\n",
       "      <td>Unknown</td>\n",
       "      <td>Unknown</td>\n",
       "      <td>false</td>\n",
       "      <td>Unknown</td>\n",
       "      <td>No</td>\n",
       "      <td>Unknown</td>\n",
       "      <td>Unknown</td>\n",
       "      <td>Unknown</td>\n",
       "      <td>United States</td>\n",
       "      <td>Plains</td>\n",
       "      <td>...</td>\n",
       "      <td>NaN</td>\n",
       "      <td>NaN</td>\n",
       "      <td>NaN</td>\n",
       "      <td>NaN</td>\n",
       "      <td>NaN</td>\n",
       "      <td>NaN</td>\n",
       "      <td>NaN</td>\n",
       "      <td>NaN</td>\n",
       "      <td>NaN</td>\n",
       "      <td>NaN</td>\n",
       "    </tr>\n",
       "    <tr>\n",
       "      <th>10317.000021675</th>\n",
       "      <td>Unknown</td>\n",
       "      <td>Unknown</td>\n",
       "      <td>false</td>\n",
       "      <td>Unknown</td>\n",
       "      <td>No</td>\n",
       "      <td>Unknown</td>\n",
       "      <td>Unknown</td>\n",
       "      <td>Unknown</td>\n",
       "      <td>United States</td>\n",
       "      <td>Rocky Mountain</td>\n",
       "      <td>...</td>\n",
       "      <td>NaN</td>\n",
       "      <td>NaN</td>\n",
       "      <td>NaN</td>\n",
       "      <td>NaN</td>\n",
       "      <td>NaN</td>\n",
       "      <td>NaN</td>\n",
       "      <td>NaN</td>\n",
       "      <td>NaN</td>\n",
       "      <td>NaN</td>\n",
       "      <td>NaN</td>\n",
       "    </tr>\n",
       "    <tr>\n",
       "      <th>10317.000021591</th>\n",
       "      <td>Unknown</td>\n",
       "      <td>Unknown</td>\n",
       "      <td>false</td>\n",
       "      <td>Unknown</td>\n",
       "      <td>No</td>\n",
       "      <td>Unknown</td>\n",
       "      <td>Unknown</td>\n",
       "      <td>Unknown</td>\n",
       "      <td>United States</td>\n",
       "      <td>Unknown</td>\n",
       "      <td>...</td>\n",
       "      <td>NaN</td>\n",
       "      <td>NaN</td>\n",
       "      <td>NaN</td>\n",
       "      <td>NaN</td>\n",
       "      <td>NaN</td>\n",
       "      <td>NaN</td>\n",
       "      <td>NaN</td>\n",
       "      <td>NaN</td>\n",
       "      <td>NaN</td>\n",
       "      <td></td>\n",
       "    </tr>\n",
       "    <tr>\n",
       "      <th>10317.000029301</th>\n",
       "      <td>Unknown</td>\n",
       "      <td>Unknown</td>\n",
       "      <td>false</td>\n",
       "      <td>Unknown</td>\n",
       "      <td>No</td>\n",
       "      <td>Unknown</td>\n",
       "      <td>Unknown</td>\n",
       "      <td>Unknown</td>\n",
       "      <td>United Kingdom</td>\n",
       "      <td>Unknown</td>\n",
       "      <td>...</td>\n",
       "      <td>NaN</td>\n",
       "      <td>NaN</td>\n",
       "      <td>NaN</td>\n",
       "      <td>NaN</td>\n",
       "      <td>NaN</td>\n",
       "      <td>NaN</td>\n",
       "      <td>NaN</td>\n",
       "      <td>NaN</td>\n",
       "      <td>NaN</td>\n",
       "      <td>NaN</td>\n",
       "    </tr>\n",
       "    <tr>\n",
       "      <th>10317.000030379</th>\n",
       "      <td>Unknown</td>\n",
       "      <td>Unknown</td>\n",
       "      <td>false</td>\n",
       "      <td>Unknown</td>\n",
       "      <td>No</td>\n",
       "      <td>Unknown</td>\n",
       "      <td>Unknown</td>\n",
       "      <td>Unknown</td>\n",
       "      <td>United Kingdom</td>\n",
       "      <td>Unknown</td>\n",
       "      <td>...</td>\n",
       "      <td>NaN</td>\n",
       "      <td>NaN</td>\n",
       "      <td>NaN</td>\n",
       "      <td>NaN</td>\n",
       "      <td>NaN</td>\n",
       "      <td>NaN</td>\n",
       "      <td>NaN</td>\n",
       "      <td>NaN</td>\n",
       "      <td>NaN</td>\n",
       "      <td>NaN</td>\n",
       "    </tr>\n",
       "    <tr>\n",
       "      <th>10317.000022265</th>\n",
       "      <td>Unknown</td>\n",
       "      <td>Unknown</td>\n",
       "      <td>false</td>\n",
       "      <td>Unknown</td>\n",
       "      <td>No</td>\n",
       "      <td>Unknown</td>\n",
       "      <td>Unknown</td>\n",
       "      <td>Unknown</td>\n",
       "      <td>Australia</td>\n",
       "      <td>Unknown</td>\n",
       "      <td>...</td>\n",
       "      <td>NaN</td>\n",
       "      <td>NaN</td>\n",
       "      <td>NaN</td>\n",
       "      <td>NaN</td>\n",
       "      <td>NaN</td>\n",
       "      <td>NaN</td>\n",
       "      <td>NaN</td>\n",
       "      <td>NaN</td>\n",
       "      <td>NaN</td>\n",
       "      <td>NaN</td>\n",
       "    </tr>\n",
       "    <tr>\n",
       "      <th>10317.000026189</th>\n",
       "      <td>Unknown</td>\n",
       "      <td>Unknown</td>\n",
       "      <td>false</td>\n",
       "      <td>Unknown</td>\n",
       "      <td>No</td>\n",
       "      <td>Unknown</td>\n",
       "      <td>Unknown</td>\n",
       "      <td>Unknown</td>\n",
       "      <td>United States</td>\n",
       "      <td>Plains</td>\n",
       "      <td>...</td>\n",
       "      <td>NaN</td>\n",
       "      <td>NaN</td>\n",
       "      <td>NaN</td>\n",
       "      <td>NaN</td>\n",
       "      <td>NaN</td>\n",
       "      <td>NaN</td>\n",
       "      <td>NaN</td>\n",
       "      <td>NaN</td>\n",
       "      <td>NaN</td>\n",
       "      <td>NaN</td>\n",
       "    </tr>\n",
       "    <tr>\n",
       "      <th>10317.000021670</th>\n",
       "      <td>Unknown</td>\n",
       "      <td>Unknown</td>\n",
       "      <td>false</td>\n",
       "      <td>Unknown</td>\n",
       "      <td>No</td>\n",
       "      <td>Unknown</td>\n",
       "      <td>Unknown</td>\n",
       "      <td>Unknown</td>\n",
       "      <td>United States</td>\n",
       "      <td>Southwest</td>\n",
       "      <td>...</td>\n",
       "      <td>NaN</td>\n",
       "      <td>NaN</td>\n",
       "      <td>NaN</td>\n",
       "      <td>NaN</td>\n",
       "      <td>NaN</td>\n",
       "      <td>NaN</td>\n",
       "      <td>NaN</td>\n",
       "      <td>NaN</td>\n",
       "      <td>NaN</td>\n",
       "      <td>NaN</td>\n",
       "    </tr>\n",
       "  </tbody>\n",
       "</table>\n",
       "<p>10 rows × 534 columns</p>\n",
       "</div>"
      ],
      "text/plain": [
       "                VIOSCREEN_MANNITOL VIOSCREEN_SFA100  \\\n",
       "#SampleID                                             \n",
       "10317.000021533            Unknown          Unknown   \n",
       "10317.000023414            Unknown          Unknown   \n",
       "10317.000026190            Unknown          Unknown   \n",
       "10317.000021675            Unknown          Unknown   \n",
       "10317.000021591            Unknown          Unknown   \n",
       "10317.000029301            Unknown          Unknown   \n",
       "10317.000030379            Unknown          Unknown   \n",
       "10317.000022265            Unknown          Unknown   \n",
       "10317.000026189            Unknown          Unknown   \n",
       "10317.000021670            Unknown          Unknown   \n",
       "\n",
       "                NON_FOOD_ALLERGIES_BEESTINGS VIOSCREEN_FINISHED  \\\n",
       "#SampleID                                                         \n",
       "10317.000021533                        false            Unknown   \n",
       "10317.000023414                        false            Unknown   \n",
       "10317.000026190                        false            Unknown   \n",
       "10317.000021675                        false            Unknown   \n",
       "10317.000021591                        false            Unknown   \n",
       "10317.000029301                        false            Unknown   \n",
       "10317.000030379                        false            Unknown   \n",
       "10317.000022265                        false            Unknown   \n",
       "10317.000026189                        false            Unknown   \n",
       "10317.000021670                        false            Unknown   \n",
       "\n",
       "                TONSILS_REMOVED VIOSCREEN_SFA170 VIOSCREEN_VEGETABLE_SERVINGS  \\\n",
       "#SampleID                                                                       \n",
       "10317.000021533              No          Unknown                      Unknown   \n",
       "10317.000023414              No          Unknown                      Unknown   \n",
       "10317.000026190              No          Unknown                      Unknown   \n",
       "10317.000021675              No          Unknown                      Unknown   \n",
       "10317.000021591              No          Unknown                      Unknown   \n",
       "10317.000029301              No          Unknown                      Unknown   \n",
       "10317.000030379              No          Unknown                      Unknown   \n",
       "10317.000022265              No          Unknown                      Unknown   \n",
       "10317.000026189              No          Unknown                      Unknown   \n",
       "10317.000021670              No          Unknown                      Unknown   \n",
       "\n",
       "                VIOSCREEN_SORBITOL COUNTRY_OF_BIRTH ECONOMIC_REGION ...   \\\n",
       "#SampleID                                                           ...    \n",
       "10317.000021533            Unknown    United States        Far West ...    \n",
       "10317.000023414            Unknown    United States       Southwest ...    \n",
       "10317.000026190            Unknown    United States          Plains ...    \n",
       "10317.000021675            Unknown    United States  Rocky Mountain ...    \n",
       "10317.000021591            Unknown    United States         Unknown ...    \n",
       "10317.000029301            Unknown   United Kingdom         Unknown ...    \n",
       "10317.000030379            Unknown   United Kingdom         Unknown ...    \n",
       "10317.000022265            Unknown        Australia         Unknown ...    \n",
       "10317.000026189            Unknown    United States          Plains ...    \n",
       "10317.000021670            Unknown    United States       Southwest ...    \n",
       "\n",
       "                Unnamed: 83 Unnamed: 84 Unnamed: 85 Unnamed: 86 Unnamed: 87  \\\n",
       "#SampleID                                                                     \n",
       "10317.000021533         NaN         NaN         NaN         NaN         NaN   \n",
       "10317.000023414         NaN         NaN         NaN         NaN         NaN   \n",
       "10317.000026190         NaN         NaN         NaN         NaN         NaN   \n",
       "10317.000021675         NaN         NaN         NaN         NaN         NaN   \n",
       "10317.000021591         NaN         NaN         NaN         NaN         NaN   \n",
       "10317.000029301         NaN         NaN         NaN         NaN         NaN   \n",
       "10317.000030379         NaN         NaN         NaN         NaN         NaN   \n",
       "10317.000022265         NaN         NaN         NaN         NaN         NaN   \n",
       "10317.000026189         NaN         NaN         NaN         NaN         NaN   \n",
       "10317.000021670         NaN         NaN         NaN         NaN         NaN   \n",
       "\n",
       "                Unnamed: 88 Unnamed: 89 Unnamed: 90 Unnamed: 91       \n",
       "#SampleID                                                             \n",
       "10317.000021533         NaN         NaN         NaN         NaN  NaN  \n",
       "10317.000023414         NaN         NaN         NaN         NaN  NaN  \n",
       "10317.000026190         NaN         NaN         NaN         NaN  NaN  \n",
       "10317.000021675         NaN         NaN         NaN         NaN  NaN  \n",
       "10317.000021591         NaN         NaN         NaN         NaN       \n",
       "10317.000029301         NaN         NaN         NaN         NaN  NaN  \n",
       "10317.000030379         NaN         NaN         NaN         NaN  NaN  \n",
       "10317.000022265         NaN         NaN         NaN         NaN  NaN  \n",
       "10317.000026189         NaN         NaN         NaN         NaN  NaN  \n",
       "10317.000021670         NaN         NaN         NaN         NaN  NaN  \n",
       "\n",
       "[10 rows x 534 columns]"
      ]
     },
     "execution_count": 263,
     "metadata": {},
     "output_type": "execute_result"
    }
   ],
   "source": [
    "ag_asd_metadata.head(10)"
   ]
  },
  {
   "cell_type": "code",
   "execution_count": 264,
   "metadata": {
    "collapsed": true
   },
   "outputs": [],
   "source": [
    "ag_asd_metadata_sampleid.to_csv(\"ad_asd_metadata_sampleid\")"
   ]
  },
  {
   "cell_type": "code",
   "execution_count": 17,
   "metadata": {
    "collapsed": true
   },
   "outputs": [],
   "source": [
    "#ag_asd_metadata.to_csv(\"ag_asd_metadata\")"
   ]
  },
  {
   "cell_type": "code",
   "execution_count": 265,
   "metadata": {
    "collapsed": false
   },
   "outputs": [
    {
     "data": {
      "text/plain": [
       "(42, 534)"
      ]
     },
     "execution_count": 265,
     "metadata": {},
     "output_type": "execute_result"
    }
   ],
   "source": [
    "ag_asd_metadata.shape"
   ]
  },
  {
   "cell_type": "code",
   "execution_count": null,
   "metadata": {
    "collapsed": true
   },
   "outputs": [],
   "source": []
  }
 ],
 "metadata": {
  "kernelspec": {
   "display_name": "Python 3",
   "language": "python",
   "name": "python3"
  },
  "language_info": {
   "codemirror_mode": {
    "name": "ipython",
    "version": 3
   },
   "file_extension": ".py",
   "mimetype": "text/x-python",
   "name": "python",
   "nbconvert_exporter": "python",
   "pygments_lexer": "ipython3",
   "version": "3.5.1"
  }
 },
 "nbformat": 4,
 "nbformat_minor": 0
}
