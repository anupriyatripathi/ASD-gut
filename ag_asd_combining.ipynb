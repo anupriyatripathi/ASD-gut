{
 "cells": [
  {
   "cell_type": "code",
   "execution_count": 29,
   "metadata": {
    "collapsed": false,
    "scrolled": true
   },
   "outputs": [
    {
     "name": "stderr",
     "output_type": "stream",
     "text": [
      "/home/ucsd-train33/anaconda3/lib/python3.5/site-packages/matplotlib/__init__.py:872: UserWarning: axes.color_cycle is deprecated and replaced with axes.prop_cycle; please use the latter.\n",
      "  warnings.warn(self.msg_depr % (key, alt_key))\n"
     ]
    }
   ],
   "source": [
    "# Numerical python library (pronounced \"num-pie\")\n",
    "import numpy as np\n",
    "\n",
    "# Dataframes in Python\n",
    "import pandas as pd\n",
    "\n",
    "# Python plotting library\n",
    "import matplotlib.pyplot as plt\n",
    "\n",
    "# Statistical plotting library we'll use\n",
    "import seaborn as sns\n",
    "\n",
    "sns.set(style='ticks', context='notebook')\n",
    "\n",
    "# This is necessary to show the plotted figures inside the notebook -- \"inline\" with the notebook cells\n",
    "%matplotlib inline\n"
   ]
  },
  {
   "cell_type": "code",
   "execution_count": 30,
   "metadata": {
    "collapsed": true
   },
   "outputs": [],
   "source": [
    "asd_metadata=pd.read_csv('asd_metadata.csv', dtype=str, index_col=\"survey_id\")\n",
    "ag_metadata=pd.read_csv('ag_10k_fecal.csv', dtype=str, index_col=\"SURVEY_ID\")"
   ]
  },
  {
   "cell_type": "code",
   "execution_count": 31,
   "metadata": {
    "collapsed": false
   },
   "outputs": [
    {
     "data": {
      "text/html": [
       "<div>\n",
       "<table border=\"1\" class=\"dataframe\">\n",
       "  <thead>\n",
       "    <tr style=\"text-align: right;\">\n",
       "      <th></th>\n",
       "      <th>#SampleID</th>\n",
       "      <th>VIOSCREEN_MANNITOL</th>\n",
       "      <th>VIOSCREEN_SFA100</th>\n",
       "      <th>NON_FOOD_ALLERGIES_BEESTINGS</th>\n",
       "      <th>VIOSCREEN_FINISHED</th>\n",
       "      <th>TONSILS_REMOVED</th>\n",
       "      <th>VIOSCREEN_SFA170</th>\n",
       "      <th>VIOSCREEN_VEGETABLE_SERVINGS</th>\n",
       "      <th>VIOSCREEN_SORBITOL</th>\n",
       "      <th>COUNTRY_OF_BIRTH</th>\n",
       "      <th>...</th>\n",
       "      <th>shannon_1k</th>\n",
       "      <th>Unnamed: 444</th>\n",
       "      <th>Unnamed: 445</th>\n",
       "      <th>Unnamed: 446</th>\n",
       "      <th>Unnamed: 447</th>\n",
       "      <th>Unnamed: 448</th>\n",
       "      <th>Unnamed: 449</th>\n",
       "      <th>Unnamed: 450</th>\n",
       "      <th>Unnamed: 451</th>\n",
       "      <th>Unnamed: 452</th>\n",
       "    </tr>\n",
       "    <tr>\n",
       "      <th>SURVEY_ID</th>\n",
       "      <th></th>\n",
       "      <th></th>\n",
       "      <th></th>\n",
       "      <th></th>\n",
       "      <th></th>\n",
       "      <th></th>\n",
       "      <th></th>\n",
       "      <th></th>\n",
       "      <th></th>\n",
       "      <th></th>\n",
       "      <th></th>\n",
       "      <th></th>\n",
       "      <th></th>\n",
       "      <th></th>\n",
       "      <th></th>\n",
       "      <th></th>\n",
       "      <th></th>\n",
       "      <th></th>\n",
       "      <th></th>\n",
       "      <th></th>\n",
       "      <th></th>\n",
       "    </tr>\n",
       "  </thead>\n",
       "  <tbody>\n",
       "    <tr>\n",
       "      <th>Unknown</th>\n",
       "      <td>10317.000027205</td>\n",
       "      <td>Unknown</td>\n",
       "      <td>Unknown</td>\n",
       "      <td>false</td>\n",
       "      <td>Unknown</td>\n",
       "      <td>No</td>\n",
       "      <td>Unknown</td>\n",
       "      <td>Unknown</td>\n",
       "      <td>Unknown</td>\n",
       "      <td>United States</td>\n",
       "      <td>...</td>\n",
       "      <td>428.5</td>\n",
       "      <td>137.8</td>\n",
       "      <td>5.5930629352</td>\n",
       "      <td>5.3857424177</td>\n",
       "      <td>NaN</td>\n",
       "      <td>NaN</td>\n",
       "      <td>NaN</td>\n",
       "      <td>NaN</td>\n",
       "      <td>NaN</td>\n",
       "      <td>NaN</td>\n",
       "    </tr>\n",
       "    <tr>\n",
       "      <th>No</th>\n",
       "      <td>10317.000028676</td>\n",
       "      <td>Unknown</td>\n",
       "      <td>Unknown</td>\n",
       "      <td>false</td>\n",
       "      <td>Unknown</td>\n",
       "      <td>No</td>\n",
       "      <td>Unknown</td>\n",
       "      <td>Unknown</td>\n",
       "      <td>Unknown</td>\n",
       "      <td>United States</td>\n",
       "      <td>...</td>\n",
       "      <td>368.4</td>\n",
       "      <td>136.5</td>\n",
       "      <td>5.5618637909</td>\n",
       "      <td>5.3637009792</td>\n",
       "      <td>NaN</td>\n",
       "      <td>NaN</td>\n",
       "      <td>NaN</td>\n",
       "      <td>NaN</td>\n",
       "      <td>NaN</td>\n",
       "      <td>NaN</td>\n",
       "    </tr>\n",
       "    <tr>\n",
       "      <th>No</th>\n",
       "      <td>10317.000034247</td>\n",
       "      <td>Unknown</td>\n",
       "      <td>Unknown</td>\n",
       "      <td>false</td>\n",
       "      <td>Unknown</td>\n",
       "      <td>No</td>\n",
       "      <td>Unknown</td>\n",
       "      <td>Unknown</td>\n",
       "      <td>Unknown</td>\n",
       "      <td>United States</td>\n",
       "      <td>...</td>\n",
       "      <td>120.3</td>\n",
       "      <td>5.0641350598</td>\n",
       "      <td>4.8497723745</td>\n",
       "      <td>NaN</td>\n",
       "      <td>NaN</td>\n",
       "      <td>NaN</td>\n",
       "      <td>NaN</td>\n",
       "      <td>NaN</td>\n",
       "      <td>NaN</td>\n",
       "      <td>NaN</td>\n",
       "    </tr>\n",
       "  </tbody>\n",
       "</table>\n",
       "<p>3 rows × 452 columns</p>\n",
       "</div>"
      ],
      "text/plain": [
       "                 #SampleID VIOSCREEN_MANNITOL VIOSCREEN_SFA100  \\\n",
       "SURVEY_ID                                                        \n",
       "Unknown    10317.000027205            Unknown          Unknown   \n",
       "No         10317.000028676            Unknown          Unknown   \n",
       "No         10317.000034247            Unknown          Unknown   \n",
       "\n",
       "          NON_FOOD_ALLERGIES_BEESTINGS VIOSCREEN_FINISHED TONSILS_REMOVED  \\\n",
       "SURVEY_ID                                                                   \n",
       "Unknown                          false            Unknown              No   \n",
       "No                               false            Unknown              No   \n",
       "No                               false            Unknown              No   \n",
       "\n",
       "          VIOSCREEN_SFA170 VIOSCREEN_VEGETABLE_SERVINGS VIOSCREEN_SORBITOL  \\\n",
       "SURVEY_ID                                                                    \n",
       "Unknown            Unknown                      Unknown            Unknown   \n",
       "No                 Unknown                      Unknown            Unknown   \n",
       "No                 Unknown                      Unknown            Unknown   \n",
       "\n",
       "          COUNTRY_OF_BIRTH     ...      shannon_1k  Unnamed: 444  \\\n",
       "SURVEY_ID                      ...                                 \n",
       "Unknown      United States     ...           428.5         137.8   \n",
       "No           United States     ...           368.4         136.5   \n",
       "No           United States     ...           120.3  5.0641350598   \n",
       "\n",
       "           Unnamed: 445  Unnamed: 446 Unnamed: 447 Unnamed: 448 Unnamed: 449  \\\n",
       "SURVEY_ID                                                                      \n",
       "Unknown    5.5930629352  5.3857424177          NaN          NaN          NaN   \n",
       "No         5.5618637909  5.3637009792          NaN          NaN          NaN   \n",
       "No         4.8497723745           NaN          NaN          NaN          NaN   \n",
       "\n",
       "          Unnamed: 450 Unnamed: 451 Unnamed: 452  \n",
       "SURVEY_ID                                         \n",
       "Unknown            NaN          NaN          NaN  \n",
       "No                 NaN          NaN          NaN  \n",
       "No                 NaN          NaN          NaN  \n",
       "\n",
       "[3 rows x 452 columns]"
      ]
     },
     "execution_count": 31,
     "metadata": {},
     "output_type": "execute_result"
    }
   ],
   "source": [
    "ag_metadata.head(3)"
   ]
  },
  {
   "cell_type": "code",
   "execution_count": 32,
   "metadata": {
    "collapsed": false
   },
   "outputs": [
    {
     "data": {
      "text/html": [
       "<div>\n",
       "<table border=\"1\" class=\"dataframe\">\n",
       "  <thead>\n",
       "    <tr style=\"text-align: right;\">\n",
       "      <th></th>\n",
       "      <th>ag_asd_timestamp</th>\n",
       "      <th>person_with_asd</th>\n",
       "      <th>relation_to_participant</th>\n",
       "      <th>age_diagnosed</th>\n",
       "      <th>Unnamed: 5</th>\n",
       "      <th>initial_identification</th>\n",
       "      <th>testings_performed</th>\n",
       "      <th>symptom_onset</th>\n",
       "      <th>social_communication_deficit_intensity</th>\n",
       "      <th>spoken_language</th>\n",
       "      <th>...</th>\n",
       "      <th>Unnamed: 83</th>\n",
       "      <th>Unnamed: 84</th>\n",
       "      <th>Unnamed: 85</th>\n",
       "      <th>Unnamed: 86</th>\n",
       "      <th>Unnamed: 87</th>\n",
       "      <th>Unnamed: 88</th>\n",
       "      <th>Unnamed: 89</th>\n",
       "      <th>Unnamed: 90</th>\n",
       "      <th>Unnamed: 91</th>\n",
       "      <th></th>\n",
       "    </tr>\n",
       "    <tr>\n",
       "      <th>survey_id</th>\n",
       "      <th></th>\n",
       "      <th></th>\n",
       "      <th></th>\n",
       "      <th></th>\n",
       "      <th></th>\n",
       "      <th></th>\n",
       "      <th></th>\n",
       "      <th></th>\n",
       "      <th></th>\n",
       "      <th></th>\n",
       "      <th></th>\n",
       "      <th></th>\n",
       "      <th></th>\n",
       "      <th></th>\n",
       "      <th></th>\n",
       "      <th></th>\n",
       "      <th></th>\n",
       "      <th></th>\n",
       "      <th></th>\n",
       "      <th></th>\n",
       "      <th></th>\n",
       "    </tr>\n",
       "  </thead>\n",
       "  <tbody>\n",
       "    <tr>\n",
       "      <th>92073008b616bc6b</th>\n",
       "      <td>10/15/2014 9:20</td>\n",
       "      <td>No</td>\n",
       "      <td>Parent</td>\n",
       "      <td>2</td>\n",
       "      <td>years</td>\n",
       "      <td>Developmental Pediatrician</td>\n",
       "      <td>Don’t know</td>\n",
       "      <td>regressive</td>\n",
       "      <td>Severe deficits</td>\n",
       "      <td>Speaks but cannot speak in full sentences</td>\n",
       "      <td>...</td>\n",
       "      <td>NaN</td>\n",
       "      <td>NaN</td>\n",
       "      <td>NaN</td>\n",
       "      <td>NaN</td>\n",
       "      <td>NaN</td>\n",
       "      <td>NaN</td>\n",
       "      <td>NaN</td>\n",
       "      <td>NaN</td>\n",
       "      <td>NaN</td>\n",
       "      <td>NaN</td>\n",
       "    </tr>\n",
       "    <tr>\n",
       "      <th>e59f57973c1cf213</th>\n",
       "      <td>10/24/2014 19:06</td>\n",
       "      <td>Yes</td>\n",
       "      <td>Self</td>\n",
       "      <td>63</td>\n",
       "      <td>years</td>\n",
       "      <td>On-line questionnaire</td>\n",
       "      <td>Don’t know</td>\n",
       "      <td>non-regressive</td>\n",
       "      <td>Moderate deficits</td>\n",
       "      <td>Yes</td>\n",
       "      <td>...</td>\n",
       "      <td>NaN</td>\n",
       "      <td>NaN</td>\n",
       "      <td>NaN</td>\n",
       "      <td>NaN</td>\n",
       "      <td>NaN</td>\n",
       "      <td>NaN</td>\n",
       "      <td>NaN</td>\n",
       "      <td>NaN</td>\n",
       "      <td>NaN</td>\n",
       "      <td>NaN</td>\n",
       "    </tr>\n",
       "    <tr>\n",
       "      <th>0ecfebf9009ce02c</th>\n",
       "      <td>11/22/2014 10:36</td>\n",
       "      <td>No</td>\n",
       "      <td>Unspecified</td>\n",
       "      <td>Unspecified</td>\n",
       "      <td>NaN</td>\n",
       "      <td>Unspecified</td>\n",
       "      <td>Unspecified</td>\n",
       "      <td>Unspecified</td>\n",
       "      <td>Unspecified</td>\n",
       "      <td>Unspecified</td>\n",
       "      <td>...</td>\n",
       "      <td>NaN</td>\n",
       "      <td>NaN</td>\n",
       "      <td>NaN</td>\n",
       "      <td>NaN</td>\n",
       "      <td>NaN</td>\n",
       "      <td>NaN</td>\n",
       "      <td>NaN</td>\n",
       "      <td>NaN</td>\n",
       "      <td>NaN</td>\n",
       "      <td>NaN</td>\n",
       "    </tr>\n",
       "  </tbody>\n",
       "</table>\n",
       "<p>3 rows × 92 columns</p>\n",
       "</div>"
      ],
      "text/plain": [
       "                  ag_asd_timestamp person_with_asd relation_to_participant  \\\n",
       "survey_id                                                                    \n",
       "92073008b616bc6b   10/15/2014 9:20              No                  Parent   \n",
       "e59f57973c1cf213  10/24/2014 19:06             Yes                    Self   \n",
       "0ecfebf9009ce02c  11/22/2014 10:36              No             Unspecified   \n",
       "\n",
       "                 age_diagnosed Unnamed: 5      initial_identification  \\\n",
       "survey_id                                                               \n",
       "92073008b616bc6b             2      years  Developmental Pediatrician   \n",
       "e59f57973c1cf213            63      years       On-line questionnaire   \n",
       "0ecfebf9009ce02c   Unspecified        NaN                 Unspecified   \n",
       "\n",
       "                 testings_performed    symptom_onset  \\\n",
       "survey_id                                              \n",
       "92073008b616bc6b         Don’t know      regressive    \n",
       "e59f57973c1cf213         Don’t know  non-regressive    \n",
       "0ecfebf9009ce02c        Unspecified      Unspecified   \n",
       "\n",
       "                 social_communication_deficit_intensity  \\\n",
       "survey_id                                                 \n",
       "92073008b616bc6b                        Severe deficits   \n",
       "e59f57973c1cf213                      Moderate deficits   \n",
       "0ecfebf9009ce02c                            Unspecified   \n",
       "\n",
       "                                            spoken_language ...  Unnamed: 83  \\\n",
       "survey_id                                                   ...                \n",
       "92073008b616bc6b  Speaks but cannot speak in full sentences ...          NaN   \n",
       "e59f57973c1cf213                                        Yes ...          NaN   \n",
       "0ecfebf9009ce02c                                Unspecified ...          NaN   \n",
       "\n",
       "                 Unnamed: 84 Unnamed: 85 Unnamed: 86 Unnamed: 87 Unnamed: 88  \\\n",
       "survey_id                                                                      \n",
       "92073008b616bc6b         NaN         NaN         NaN         NaN         NaN   \n",
       "e59f57973c1cf213         NaN         NaN         NaN         NaN         NaN   \n",
       "0ecfebf9009ce02c         NaN         NaN         NaN         NaN         NaN   \n",
       "\n",
       "                 Unnamed: 89 Unnamed: 90 Unnamed: 91       \n",
       "survey_id                                                  \n",
       "92073008b616bc6b         NaN         NaN         NaN  NaN  \n",
       "e59f57973c1cf213         NaN         NaN         NaN  NaN  \n",
       "0ecfebf9009ce02c         NaN         NaN         NaN  NaN  \n",
       "\n",
       "[3 rows x 92 columns]"
      ]
     },
     "execution_count": 32,
     "metadata": {},
     "output_type": "execute_result"
    }
   ],
   "source": [
    "asd_metadata.head(3)"
   ]
  },
  {
   "cell_type": "code",
   "execution_count": 33,
   "metadata": {
    "collapsed": false
   },
   "outputs": [
    {
     "data": {
      "text/plain": [
       "(81, 92)"
      ]
     },
     "execution_count": 33,
     "metadata": {},
     "output_type": "execute_result"
    }
   ],
   "source": [
    "#asd_metadata.head(10)\n",
    "#asd_metadata.shape\n",
    "asd_metadata=asd_metadata.rename(columns={'Unnamed: 5':\"unit\"})\n",
    "asd_metadata.shape"
   ]
  },
  {
   "cell_type": "code",
   "execution_count": 34,
   "metadata": {
    "collapsed": false
   },
   "outputs": [
    {
     "data": {
      "text/plain": [
       "(4050, 452)"
      ]
     },
     "execution_count": 34,
     "metadata": {},
     "output_type": "execute_result"
    }
   ],
   "source": [
    "ag_metadata.index.names=['survey_id'] #renaming the index column so that they have the same name for both metadata\n",
    "ag_metadata.shape\n",
    "#ag_metadata[\"#SampleID\"].count\n"
   ]
  },
  {
   "cell_type": "code",
   "execution_count": 35,
   "metadata": {
    "collapsed": true
   },
   "outputs": [],
   "source": [
    "ag_asd_metadata=asd_metadata.join(ag_metadata) #outer joining everything and replaces the extra cells with NaN"
   ]
  },
  {
   "cell_type": "code",
   "execution_count": 36,
   "metadata": {
    "collapsed": false
   },
   "outputs": [
    {
     "data": {
      "text/plain": [
       "(83, 544)"
      ]
     },
     "execution_count": 36,
     "metadata": {},
     "output_type": "execute_result"
    }
   ],
   "source": [
    "ag_asd_metadata.shape"
   ]
  },
  {
   "cell_type": "code",
   "execution_count": 37,
   "metadata": {
    "collapsed": false
   },
   "outputs": [],
   "source": [
    "ag_asd_metadata = ag_asd_metadata[pd.notnull(ag_asd_metadata['ag_asd_timestamp'])] #removing the rows that don't have timestamp"
   ]
  },
  {
   "cell_type": "code",
   "execution_count": 38,
   "metadata": {
    "collapsed": false
   },
   "outputs": [
    {
     "data": {
      "text/plain": [
       "(83, 544)"
      ]
     },
     "execution_count": 38,
     "metadata": {},
     "output_type": "execute_result"
    }
   ],
   "source": [
    "ag_asd_metadata.shape"
   ]
  },
  {
   "cell_type": "code",
   "execution_count": 25,
   "metadata": {
    "collapsed": false
   },
   "outputs": [
    {
     "data": {
      "text/plain": [
       "(83, 544)"
      ]
     },
     "execution_count": 25,
     "metadata": {},
     "output_type": "execute_result"
    }
   ],
   "source": [
    "ag_asd_metadata.shape"
   ]
  },
  {
   "cell_type": "code",
   "execution_count": 44,
   "metadata": {
    "collapsed": false
   },
   "outputs": [],
   "source": [
    "ag_asd_metadata_sampleid=ag_asd_metadata.set_index(\"#SampleID\")"
   ]
  },
  {
   "cell_type": "code",
   "execution_count": 45,
   "metadata": {
    "collapsed": true
   },
   "outputs": [],
   "source": [
    "ag_asd_metadata_sampleid.to_csv(\"ad_asd_metadata_sampleid\")"
   ]
  },
  {
   "cell_type": "code",
   "execution_count": 43,
   "metadata": {
    "collapsed": true
   },
   "outputs": [],
   "source": [
    "ag_asd_metadata.to_csv(\"ag_asd_metadata\")"
   ]
  },
  {
   "cell_type": "code",
   "execution_count": 42,
   "metadata": {
    "collapsed": false
   },
   "outputs": [
    {
     "data": {
      "text/plain": [
       "(83, 544)"
      ]
     },
     "execution_count": 42,
     "metadata": {},
     "output_type": "execute_result"
    }
   ],
   "source": [
    "ag_asd_metadata.shape"
   ]
  },
  {
   "cell_type": "code",
   "execution_count": null,
   "metadata": {
    "collapsed": true
   },
   "outputs": [],
   "source": []
  }
 ],
 "metadata": {
  "kernelspec": {
   "display_name": "Python 3",
   "language": "python",
   "name": "python3"
  },
  "language_info": {
   "codemirror_mode": {
    "name": "ipython",
    "version": 3
   },
   "file_extension": ".py",
   "mimetype": "text/x-python",
   "name": "python",
   "nbconvert_exporter": "python",
   "pygments_lexer": "ipython3",
   "version": "3.5.1"
  }
 },
 "nbformat": 4,
 "nbformat_minor": 0
}
